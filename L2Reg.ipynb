{
  "nbformat": 4,
  "nbformat_minor": 0,
  "metadata": {
    "colab": {
      "provenance": []
    },
    "kernelspec": {
      "name": "python3",
      "display_name": "Python 3"
    },
    "language_info": {
      "name": "python"
    }
  },
  "cells": [
    {
      "cell_type": "code",
      "execution_count": 1,
      "metadata": {
        "id": "448Uhs8pipGi"
      },
      "outputs": [],
      "source": [
        "import numpy as np\n",
        "import matplotlib.pyplot as plt"
      ]
    },
    {
      "cell_type": "code",
      "source": [
        "N = 50\n",
        "X = np.linspace(0, 10, N)\n",
        "Y = 0.5 * X + np.random.randn()"
      ],
      "metadata": {
        "id": "C0Vn5yl3isqT"
      },
      "execution_count": 2,
      "outputs": []
    },
    {
      "cell_type": "code",
      "source": [
        "Y[-1] += 30\n",
        "Y[-2] += 30"
      ],
      "metadata": {
        "id": "rHb_caFQi1u3"
      },
      "execution_count": 3,
      "outputs": []
    },
    {
      "cell_type": "code",
      "source": [
        "plt.scatter(X, Y);"
      ],
      "metadata": {
        "colab": {
          "base_uri": "https://localhost:8080/",
          "height": 265
        },
        "id": "MGvlUfusi6zv",
        "outputId": "70693081-727c-4b38-9386-11daf1b30be1"
      },
      "execution_count": 5,
      "outputs": [
        {
          "output_type": "display_data",
          "data": {
            "text/plain": [
              "<Figure size 432x288 with 1 Axes>"
            ],
            "image/png": "[encoded data removed]"
          },
          "metadata": {
            "needs_background": "light"
          }
        }
      ]
    },
    {
      "cell_type": "code",
      "source": [
        "X = np.vstack([np.ones(N), X]).T\n",
        "X"
      ],
      "metadata": {
        "colab": {
          "base_uri": "https://localhost:8080/"
        },
        "id": "AvdttDRAi91g",
        "outputId": "418dfc4f-7cee-4888-bfff-991e608f159b"
      },
      "execution_count": 6,
      "outputs": [
        {
          "output_type": "execute_result",
          "data": {
            "text/plain": [
              "array([[ 1.        ,  0.        ],\n",
              "       [ 1.        ,  0.20408163],\n",
              "       [ 1.        ,  0.40816327],\n",
              "       [ 1.        ,  0.6122449 ],\n",
              "       [ 1.        ,  0.81632653],\n",
              "       [ 1.        ,  1.02040816],\n",
              "       [ 1.        ,  1.2244898 ],\n",
              "       [ 1.        ,  1.42857143],\n",
              "       [ 1.        ,  1.63265306],\n",
              "       [ 1.        ,  1.83673469],\n",
              "       [ 1.        ,  2.04081633],\n",
              "       [ 1.        ,  2.24489796],\n",
              "       [ 1.        ,  2.44897959],\n",
              "       [ 1.        ,  2.65306122],\n",
              "       [ 1.        ,  2.85714286],\n",
              "       [ 1.        ,  3.06122449],\n",
              "       [ 1.        ,  3.26530612],\n",
              "       [ 1.        ,  3.46938776],\n",
              "       [ 1.        ,  3.67346939],\n",
              "       [ 1.        ,  3.87755102],\n",
              "       [ 1.        ,  4.08163265],\n",
              "       [ 1.        ,  4.28571429],\n",
              "       [ 1.        ,  4.48979592],\n",
              "       [ 1.        ,  4.69387755],\n",
              "       [ 1.        ,  4.89795918],\n",
              "       [ 1.        ,  5.10204082],\n",
              "       [ 1.        ,  5.30612245],\n",
              "       [ 1.        ,  5.51020408],\n",
              "       [ 1.        ,  5.71428571],\n",
              "       [ 1.        ,  5.91836735],\n",
              "       [ 1.        ,  6.12244898],\n",
              "       [ 1.        ,  6.32653061],\n",
              "       [ 1.        ,  6.53061224],\n",
              "       [ 1.        ,  6.73469388],\n",
              "       [ 1.        ,  6.93877551],\n",
              "       [ 1.        ,  7.14285714],\n",
              "       [ 1.        ,  7.34693878],\n",
              "       [ 1.        ,  7.55102041],\n",
              "       [ 1.        ,  7.75510204],\n",
              "       [ 1.        ,  7.95918367],\n",
              "       [ 1.        ,  8.16326531],\n",
              "       [ 1.        ,  8.36734694],\n",
              "       [ 1.        ,  8.57142857],\n",
              "       [ 1.        ,  8.7755102 ],\n",
              "       [ 1.        ,  8.97959184],\n",
              "       [ 1.        ,  9.18367347],\n",
              "       [ 1.        ,  9.3877551 ],\n",
              "       [ 1.        ,  9.59183673],\n",
              "       [ 1.        ,  9.79591837],\n",
              "       [ 1.        , 10.        ]])"
            ]
          },
          "metadata": {},
          "execution_count": 6
        }
      ]
    },
    {
      "cell_type": "code",
      "source": [
        "w_ml = np.linalg.solve(X.T.dot(X), X.T.dot(Y))\n",
        "Yhat_ml = X.dot(w_ml)"
      ],
      "metadata": {
        "id": "AAtEArc6jKsk"
      },
      "execution_count": 7,
      "outputs": []
    },
    {
      "cell_type": "code",
      "source": [
        "plt.scatter(X[:,1], Y);\n",
        "plt.plot(X[:, 1], Yhat_ml);"
      ],
      "metadata": {
        "colab": {
          "base_uri": "https://localhost:8080/",
          "height": 265
        },
        "id": "svH14WM5jfB0",
        "outputId": "c9dcf869-57af-4d00-ebe5-939b43c47540"
      },
      "execution_count": 12,
      "outputs": [
        {
          "output_type": "display_data",
          "data": {
            "text/plain": [
              "<Figure size 432x288 with 1 Axes>"
            ],
            "image/png": "[encoded data removed]"
          },
          "metadata": {
            "needs_background": "light"
          }
        }
      ]
    },
    {
      "cell_type": "code",
      "source": [
        "l2 = 1000.0\n",
        "w_map = np.linalg.solve(l2 * np.eye(2) + X.T.dot(X), X.T.dot(Y))\n",
        "Yhat_map = X.dot(w_map)"
      ],
      "metadata": {
        "id": "F2FNOZ14jjW0"
      },
      "execution_count": 14,
      "outputs": []
    },
    {
      "cell_type": "code",
      "source": [
        "plt.scatter(X[:,1], Y);\n",
        "plt.plot(X[:, 1], Yhat_ml, label='maximum likelihood');\n",
        "plt.plot(X[:, 1], Yhat_map, label='map');\n",
        "plt.legend();"
      ],
      "metadata": {
        "colab": {
          "base_uri": "https://localhost:8080/",
          "height": 265
        },
        "id": "ipsae9CWjnRe",
        "outputId": "d96c5090-b519-4f17-fef6-18c86b7c892f"
      },
      "execution_count": 15,
      "outputs": [
        {
          "output_type": "display_data",
          "data": {
            "text/plain": [
              "<Figure size 432x288 with 1 Axes>"
            ],
            "image/png": "[encoded data removed]"
          },
          "metadata": {
            "needs_background": "light"
          }
        }
      ]
    }
  ]
}