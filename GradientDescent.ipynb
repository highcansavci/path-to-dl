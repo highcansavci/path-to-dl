{
  "nbformat": 4,
  "nbformat_minor": 0,
  "metadata": {
    "colab": {
      "provenance": []
    },
    "kernelspec": {
      "name": "python3",
      "display_name": "Python 3"
    },
    "language_info": {
      "name": "python"
    }
  },
  "cells": [
    {
      "cell_type": "code",
      "execution_count": 1,
      "metadata": {
        "id": "qz-Io1ntoXre"
      },
      "outputs": [],
      "source": [
        "import numpy as np\n",
        "import matplotlib.pyplot as plt"
      ]
    },
    {
      "cell_type": "code",
      "source": [
        "N = 10\n",
        "D = 3\n",
        "X = np.zeros((N, D))\n",
        "X[:,0] = 1\n",
        "X[:5,1] = 1\n",
        "X[5:,2] = 1\n",
        "X"
      ],
      "metadata": {
        "colab": {
          "base_uri": "https://localhost:8080/"
        },
        "id": "PZ0O64Icpels",
        "outputId": "385d8c8e-c127-4338-acf5-dea8c82c0781"
      },
      "execution_count": 2,
      "outputs": [
        {
          "output_type": "execute_result",
          "data": {
            "text/plain": [
              "array([[1., 1., 0.],\n",
              "       [1., 1., 0.],\n",
              "       [1., 1., 0.],\n",
              "       [1., 1., 0.],\n",
              "       [1., 1., 0.],\n",
              "       [1., 0., 1.],\n",
              "       [1., 0., 1.],\n",
              "       [1., 0., 1.],\n",
              "       [1., 0., 1.],\n",
              "       [1., 0., 1.]])"
            ]
          },
          "metadata": {},
          "execution_count": 2
        }
      ]
    },
    {
      "cell_type": "code",
      "source": [
        "Y = np.array([0]*5 + [1]*5)\n",
        "Y"
      ],
      "metadata": {
        "colab": {
          "base_uri": "https://localhost:8080/"
        },
        "id": "5Gakgsc0p22i",
        "outputId": "570ad378-1ac9-477a-9c93-facd2ab1dd28"
      },
      "execution_count": 4,
      "outputs": [
        {
          "output_type": "execute_result",
          "data": {
            "text/plain": [
              "array([0, 0, 0, 0, 0, 1, 1, 1, 1, 1])"
            ]
          },
          "metadata": {},
          "execution_count": 4
        }
      ]
    },
    {
      "cell_type": "code",
      "source": [
        "costs = []\n",
        "w = np.random.randn(D) / np.sqrt(D)\n",
        "learning_rate = 0.001\n",
        "epoch = 1000\n",
        "for t in range(epoch):\n",
        "  Yhat = X.dot(w)\n",
        "  delta = Yhat - Y\n",
        "  w = w - learning_rate * X.T.dot(delta)\n",
        "  mse = delta.dot(delta) / N\n",
        "  costs.append(mse)"
      ],
      "metadata": {
        "id": "UaqAj0dOqgyH"
      },
      "execution_count": 5,
      "outputs": []
    },
    {
      "cell_type": "code",
      "source": [
        "plt.plot(costs);"
      ],
      "metadata": {
        "colab": {
          "base_uri": "https://localhost:8080/",
          "height": 265
        },
        "id": "ibGKQz5drhD8",
        "outputId": "69f8f19d-8ac0-44d8-95ba-b8e5073868a5"
      },
      "execution_count": 6,
      "outputs": [
        {
          "output_type": "display_data",
          "data": {
            "text/plain": [
              "<Figure size 432x288 with 1 Axes>"
            ],
            "image/png": "[encoded data removed]"
          },
          "metadata": {
            "needs_background": "light"
          }
        }
      ]
    },
    {
      "cell_type": "code",
      "source": [
        "w"
      ],
      "metadata": {
        "colab": {
          "base_uri": "https://localhost:8080/"
        },
        "id": "CB7aXqTMrmZ6",
        "outputId": "60e7399b-ed24-418e-dfa4-c74fb41e1731"
      },
      "execution_count": 7,
      "outputs": [
        {
          "output_type": "execute_result",
          "data": {
            "text/plain": [
              "array([ 0.24552352, -0.24277222,  0.7517246 ])"
            ]
          },
          "metadata": {},
          "execution_count": 7
        }
      ]
    },
    {
      "cell_type": "code",
      "source": [
        "plt.plot(Yhat, label=\"prediction\");\n",
        "plt.plot(Y, label=\"target\");\n",
        "plt.legend();"
      ],
      "metadata": {
        "colab": {
          "base_uri": "https://localhost:8080/",
          "height": 265
        },
        "id": "0Itq8GpDsF8y",
        "outputId": "2c89a3dd-16f2-4f26-c830-79ed50fa2c47"
      },
      "execution_count": 8,
      "outputs": [
        {
          "output_type": "display_data",
          "data": {
            "text/plain": [
              "<Figure size 432x288 with 1 Axes>"
            ],
            "image/png": "[encoded data removed]"
          },
          "metadata": {
            "needs_background": "light"
          }
        }
      ]
    },
    {
      "cell_type": "code",
      "source": [],
      "metadata": {
        "id": "gMK_7VgIsYep"
      },
      "execution_count": null,
      "outputs": []
    }
  ]
}