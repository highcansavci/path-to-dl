{
  "nbformat": 4,
  "nbformat_minor": 0,
  "metadata": {
    "colab": {
      "provenance": []
    },
    "kernelspec": {
      "name": "python3",
      "display_name": "Python 3"
    },
    "language_info": {
      "name": "python"
    }
  },
  "cells": [
    {
      "cell_type": "code",
      "execution_count": 4,
      "metadata": {
        "id": "WlkEYAN0x-g8"
      },
      "outputs": [],
      "source": [
        "import numpy as np\n",
        "import matplotlib.pyplot as plt\n",
        "import pandas as pd"
      ]
    },
    {
      "cell_type": "code",
      "source": [
        "!wget https://raw.githubusercontent.com/lazyprogrammer/machine_learning_examples/master/linear_regression_class/data_1d.csv"
      ],
      "metadata": {
        "colab": {
          "base_uri": "https://localhost:8080/"
        },
        "id": "4t7hj0zeyT0f",
        "outputId": "8f0d8e98-7a20-442b-b24e-e42d67a62db9"
      },
      "execution_count": 2,
      "outputs": [
        {
          "output_type": "stream",
          "name": "stdout",
          "text": [
            "--2023-01-12 02:22:55--  https://raw.githubusercontent.com/lazyprogrammer/machine_learning_examples/master/linear_regression_class/data_1d.csv\n",
            "Resolving raw.githubusercontent.com (raw.githubusercontent.com)... 185.199.110.133, 185.199.109.133, 185.199.108.133, ...\n",
            "Connecting to raw.githubusercontent.com (raw.githubusercontent.com)|185.199.110.133|:443... connected.\n",
            "HTTP request sent, awaiting response... 200 OK\n",
            "Length: 2770 (2.7K) [text/plain]\n",
            "Saving to: ‘data_1d.csv’\n",
            "\n",
            "\rdata_1d.csv           0%[                    ]       0  --.-KB/s               \rdata_1d.csv         100%[===================>]   2.71K  --.-KB/s    in 0s      \n",
            "\n",
            "2023-01-12 02:22:55 (37.6 MB/s) - ‘data_1d.csv’ saved [2770/2770]\n",
            "\n"
          ]
        }
      ]
    },
    {
      "cell_type": "code",
      "source": [
        "df = pd.read_csv(\"data_1d.csv\", header=None)"
      ],
      "metadata": {
        "id": "HY-YJCygyDE3"
      },
      "execution_count": 16,
      "outputs": []
    },
    {
      "cell_type": "code",
      "source": [
        "df.head()"
      ],
      "metadata": {
        "colab": {
          "base_uri": "https://localhost:8080/",
          "height": 206
        },
        "id": "1XiX2iWTysSJ",
        "outputId": "3bd7c387-5051-403a-e5b8-da1cfd9a5a53"
      },
      "execution_count": 17,
      "outputs": [
        {
          "output_type": "execute_result",
          "data": {
            "text/plain": [
              "           0           1\n",
              "0  95.724162  197.179636\n",
              "1  35.757619   67.590670\n",
              "2  28.816847   60.854133\n",
              "3  99.958481  196.907397\n",
              "4  66.809748  125.311129"
            ],
            "text/html": [
              "\n",
              "  <div id=\"df-94fc6b2e-9d6b-4442-a765-dea9368e426c\">\n",
              "    <div class=\"colab-df-container\">\n",
              "      <div>\n",
              "<style scoped>\n",
              "    .dataframe tbody tr th:only-of-type {\n",
              "        vertical-align: middle;\n",
              "    }\n",
              "\n",
              "    .dataframe tbody tr th {\n",
              "        vertical-align: top;\n",
              "    }\n",
              "\n",
              "    .dataframe thead th {\n",
              "        text-align: right;\n",
              "    }\n",
              "</style>\n",
              "<table border=\"1\" class=\"dataframe\">\n",
              "  <thead>\n",
              "    <tr style=\"text-align: right;\">\n",
              "      <th></th>\n",
              "      <th>0</th>\n",
              "      <th>1</th>\n",
              "    </tr>\n",
              "  </thead>\n",
              "  <tbody>\n",
              "    <tr>\n",
              "      <th>0</th>\n",
              "      <td>95.724162</td>\n",
              "      <td>197.179636</td>\n",
              "    </tr>\n",
              "    <tr>\n",
              "      <th>1</th>\n",
              "      <td>35.757619</td>\n",
              "      <td>67.590670</td>\n",
              "    </tr>\n",
              "    <tr>\n",
              "      <th>2</th>\n",
              "      <td>28.816847</td>\n",
              "      <td>60.854133</td>\n",
              "    </tr>\n",
              "    <tr>\n",
              "      <th>3</th>\n",
              "      <td>99.958481</td>\n",
              "      <td>196.907397</td>\n",
              "    </tr>\n",
              "    <tr>\n",
              "      <th>4</th>\n",
              "      <td>66.809748</td>\n",
              "      <td>125.311129</td>\n",
              "    </tr>\n",
              "  </tbody>\n",
              "</table>\n",
              "</div>\n",
              "      <button class=\"colab-df-convert\" onclick=\"convertToInteractive('df-94fc6b2e-9d6b-4442-a765-dea9368e426c')\"\n",
              "              title=\"Convert this dataframe to an interactive table.\"\n",
              "              style=\"display:none;\">\n",
              "        \n",
              "  <svg xmlns=\"http://www.w3.org/2000/svg\" height=\"24px\"viewBox=\"0 0 24 24\"\n",
              "       width=\"24px\">\n",
              "    <path d=\"M0 0h24v24H0V0z\" fill=\"none\"/>\n",
              "    <path d=\"M18.56 5.44l.94 2.06.94-2.06 2.06-.94-2.06-.94-.94-2.06-.94 2.06-2.06.94zm-11 1L8.5 8.5l.94-2.06 2.06-.94-2.06-.94L8.5 2.5l-.94 2.06-2.06.94zm10 10l.94 2.06.94-2.06 2.06-.94-2.06-.94-.94-2.06-.94 2.06-2.06.94z\"/><path d=\"M17.41 7.96l-1.37-1.37c-.4-.4-.92-.59-1.43-.59-.52 0-1.04.2-1.43.59L10.3 9.45l-7.72 7.72c-.78.78-.78 2.05 0 2.83L4 21.41c.39.39.9.59 1.41.59.51 0 1.02-.2 1.41-.59l7.78-7.78 2.81-2.81c.8-.78.8-2.07 0-2.86zM5.41 20L4 18.59l7.72-7.72 1.47 1.35L5.41 20z\"/>\n",
              "  </svg>\n",
              "      </button>\n",
              "      \n",
              "  <style>\n",
              "    .colab-df-container {\n",
              "      display:flex;\n",
              "      flex-wrap:wrap;\n",
              "      gap: 12px;\n",
              "    }\n",
              "\n",
              "    .colab-df-convert {\n",
              "      background-color: #E8F0FE;\n",
              "      border: none;\n",
              "      border-radius: 50%;\n",
              "      cursor: pointer;\n",
              "      display: none;\n",
              "      fill: #1967D2;\n",
              "      height: 32px;\n",
              "      padding: 0 0 0 0;\n",
              "      width: 32px;\n",
              "    }\n",
              "\n",
              "    .colab-df-convert:hover {\n",
              "      background-color: #E2EBFA;\n",
              "      box-shadow: 0px 1px 2px rgba(60, 64, 67, 0.3), 0px 1px 3px 1px rgba(60, 64, 67, 0.15);\n",
              "      fill: #174EA6;\n",
              "    }\n",
              "\n",
              "    [theme=dark] .colab-df-convert {\n",
              "      background-color: #3B4455;\n",
              "      fill: #D2E3FC;\n",
              "    }\n",
              "\n",
              "    [theme=dark] .colab-df-convert:hover {\n",
              "      background-color: #434B5C;\n",
              "      box-shadow: 0px 1px 3px 1px rgba(0, 0, 0, 0.15);\n",
              "      filter: drop-shadow(0px 1px 2px rgba(0, 0, 0, 0.3));\n",
              "      fill: #FFFFFF;\n",
              "    }\n",
              "  </style>\n",
              "\n",
              "      <script>\n",
              "        const buttonEl =\n",
              "          document.querySelector('#df-94fc6b2e-9d6b-4442-a765-dea9368e426c button.colab-df-convert');\n",
              "        buttonEl.style.display =\n",
              "          google.colab.kernel.accessAllowed ? 'block' : 'none';\n",
              "\n",
              "        async function convertToInteractive(key) {\n",
              "          const element = document.querySelector('#df-94fc6b2e-9d6b-4442-a765-dea9368e426c');\n",
              "          const dataTable =\n",
              "            await google.colab.kernel.invokeFunction('convertToInteractive',\n",
              "                                                     [key], {});\n",
              "          if (!dataTable) return;\n",
              "\n",
              "          const docLinkHtml = 'Like what you see? Visit the ' +\n",
              "            '<a target=\"_blank\" href=https://colab.research.google.com/notebooks/data_table.ipynb>data table notebook</a>'\n",
              "            + ' to learn more about interactive tables.';\n",
              "          element.innerHTML = '';\n",
              "          dataTable['output_type'] = 'display_data';\n",
              "          await google.colab.output.renderOutput(dataTable, element);\n",
              "          const docLink = document.createElement('div');\n",
              "          docLink.innerHTML = docLinkHtml;\n",
              "          element.appendChild(docLink);\n",
              "        }\n",
              "      </script>\n",
              "    </div>\n",
              "  </div>\n",
              "  "
            ]
          },
          "metadata": {},
          "execution_count": 17
        }
      ]
    },
    {
      "cell_type": "code",
      "source": [
        "X = df[0].to_numpy()\n",
        "Y = df[1].to_numpy()\n",
        "X"
      ],
      "metadata": {
        "colab": {
          "base_uri": "https://localhost:8080/"
        },
        "id": "h1flNA3cyvsI",
        "outputId": "29a3202b-b160-4aeb-a6b0-591cf8de7d8a"
      },
      "execution_count": 20,
      "outputs": [
        {
          "output_type": "execute_result",
          "data": {
            "text/plain": [
              "array([95.72416241, 35.75761893, 28.81684742, 99.95848131, 66.80974831,\n",
              "       58.21569264, 53.82107634, 81.29608217, 80.64869706, 78.25281369,\n",
              "       16.86348369, 90.79914756, 53.31273701, 71.61878902, 18.41059178,\n",
              "       57.12434676, 81.13468392, 82.01525542, 36.92490825, 44.58712604,\n",
              "       26.66235446, 74.06505712, 17.74057673,  6.81974382, 26.31736009,\n",
              "       82.80411905, 39.44653696, 76.72812059, 42.21585614, 94.35857584,\n",
              "       42.14178513,  3.21124861,  6.8856734 , 13.87577216, 63.29740364,\n",
              "       60.49251936, 79.60728523, 83.44436306, 54.89207011, 62.04594417,\n",
              "       66.65375794, 61.31981316, 47.31955299, 81.1509876 , 91.02151367,\n",
              "       16.84346201, 76.50643657, 71.86570468,  9.84808948, 35.78971241,\n",
              "       35.888692  , 90.82944871,  7.26207284, 35.35928817, 79.07925376,\n",
              "       21.55345833, 79.47642778, 48.76796664, 54.79386201, 87.50352552,\n",
              "       38.94913047,  9.39561282, 11.12118682, 46.13555826, 85.69757358,\n",
              "       50.1102964 , 11.07366673, 22.22813085, 67.5539548 , 12.78718566,\n",
              "       46.96549084,  4.84854065, 40.53733193, 26.33046127, 38.88472635,\n",
              "       93.83826653, 60.08165997, 50.11396522, 17.71868528, 85.07303114,\n",
              "       41.32150973, 35.45154709, 74.02102554, 90.5197211 , 34.54059704,\n",
              "       94.56166213, 52.95626785, 80.10643641, 49.82275758, 61.78172531,\n",
              "       60.28610836, 77.32069019, 15.64635875, 71.54061834, 62.45239811,\n",
              "       79.05983237, 72.19769344, 71.41775342, 31.00882008, 40.32528222])"
            ]
          },
          "metadata": {},
          "execution_count": 20
        }
      ]
    },
    {
      "cell_type": "code",
      "source": [
        "plt.scatter(X, Y)\n",
        "plt.show()"
      ],
      "metadata": {
        "colab": {
          "base_uri": "https://localhost:8080/",
          "height": 265
        },
        "id": "GSAetv0wz6E5",
        "outputId": "53ca383e-fac9-451a-841b-bfe57058768f"
      },
      "execution_count": 21,
      "outputs": [
        {
          "output_type": "display_data",
          "data": {
            "text/plain": [
              "<Figure size 432x288 with 1 Axes>"
            ],
            "image/png": "[encoded data removed]"
          },
          "metadata": {
            "needs_background": "light"
          }
        }
      ]
    },
    {
      "cell_type": "code",
      "source": [
        "denominator = X.dot(X) - X.mean() * X.sum()\n",
        "a = (X.dot(Y) - Y.mean() * X.sum()) / denominator\n",
        "b = (Y.mean() * X.dot(X) - X.mean() * X.dot(Y)) / denominator"
      ],
      "metadata": {
        "id": "EXf_FXA60NhN"
      },
      "execution_count": 23,
      "outputs": []
    },
    {
      "cell_type": "code",
      "source": [
        "Yhat = a * X + b"
      ],
      "metadata": {
        "id": "xffAN_BX0nRk"
      },
      "execution_count": 24,
      "outputs": []
    },
    {
      "cell_type": "code",
      "source": [
        "plt.scatter(X, Y)\n",
        "plt.scatter(X, Yhat)\n",
        "plt.show()"
      ],
      "metadata": {
        "colab": {
          "base_uri": "https://localhost:8080/",
          "height": 265
        },
        "id": "N5MYm6EA1Qis",
        "outputId": "e064b69a-878b-47d5-8800-b231c1ce536a"
      },
      "execution_count": 25,
      "outputs": [
        {
          "output_type": "display_data",
          "data": {
            "text/plain": [
              "<Figure size 432x288 with 1 Axes>"
            ],
            "image/png": "[encoded data removed]"
          },
          "metadata": {
            "needs_background": "light"
          }
        }
      ]
    },
    {
      "cell_type": "code",
      "source": [
        "# calculate Yhat\n",
        "d1 = Y - Yhat\n",
        "d2 = Y - Y.mean()\n",
        "r2 = 1 - d1.dot(d1) / d2.dot(d2)\n",
        "print(f\"R2: {r2}\")"
      ],
      "metadata": {
        "colab": {
          "base_uri": "https://localhost:8080/"
        },
        "id": "Oplu-9UA1fwM",
        "outputId": "78e017ff-0727-44c0-fbce-c3d055cc00ad"
      },
      "execution_count": 26,
      "outputs": [
        {
          "output_type": "stream",
          "name": "stdout",
          "text": [
            "R2: 0.9911838202977805\n"
          ]
        }
      ]
    },
    {
      "cell_type": "code",
      "source": [],
      "metadata": {
        "id": "Aljcbc1T4KKq"
      },
      "execution_count": null,
      "outputs": []
    }
  ]
}