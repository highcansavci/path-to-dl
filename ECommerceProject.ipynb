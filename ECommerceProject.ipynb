{
  "nbformat": 4,
  "nbformat_minor": 0,
  "metadata": {
    "colab": {
      "provenance": []
    },
    "kernelspec": {
      "name": "python3",
      "display_name": "Python 3"
    },
    "language_info": {
      "name": "python"
    }
  },
  "cells": [
    {
      "cell_type": "code",
      "execution_count": 1,
      "metadata": {
        "id": "Qbrw7mjnjbQS"
      },
      "outputs": [],
      "source": [
        "import numpy as np\n",
        "import pandas as pd\n",
        "import matplotlib.pyplot as plt"
      ]
    },
    {
      "cell_type": "code",
      "source": [
        "!wget https://raw.githubusercontent.com/lazyprogrammer/machine_learning_examples/master/ann_logistic_extra/ecommerce_data.csv"
      ],
      "metadata": {
        "colab": {
          "base_uri": "https://localhost:8080/"
        },
        "id": "Ieg9iI4_jum3",
        "outputId": "fb0b74f1-696d-448b-bfa7-03dab7592146"
      },
      "execution_count": 2,
      "outputs": [
        {
          "output_type": "stream",
          "name": "stdout",
          "text": [
            "--2023-01-24 18:59:30--  https://raw.githubusercontent.com/lazyprogrammer/machine_learning_examples/master/ann_logistic_extra/ecommerce_data.csv\n",
            "Resolving raw.githubusercontent.com (raw.githubusercontent.com)... 185.199.108.133, 185.199.109.133, 185.199.110.133, ...\n",
            "Connecting to raw.githubusercontent.com (raw.githubusercontent.com)|185.199.108.133|:443... connected.\n",
            "HTTP request sent, awaiting response... 200 OK\n",
            "Length: 12381 (12K) [text/plain]\n",
            "Saving to: ‘ecommerce_data.csv’\n",
            "\n",
            "\recommerce_data.csv    0%[                    ]       0  --.-KB/s               \recommerce_data.csv  100%[===================>]  12.09K  --.-KB/s    in 0s      \n",
            "\n",
            "2023-01-24 18:59:30 (40.9 MB/s) - ‘ecommerce_data.csv’ saved [12381/12381]\n",
            "\n"
          ]
        }
      ]
    },
    {
      "cell_type": "code",
      "source": [
        "df = pd.read_csv(\"ecommerce_data.csv\")"
      ],
      "metadata": {
        "id": "xk4XKXwJkQm2"
      },
      "execution_count": 3,
      "outputs": []
    },
    {
      "cell_type": "code",
      "source": [
        "df.head()"
      ],
      "metadata": {
        "colab": {
          "base_uri": "https://localhost:8080/",
          "height": 206
        },
        "id": "YeFnecqlkmFk",
        "outputId": "6bd64915-da95-4242-c68d-f4f40c31421e"
      },
      "execution_count": 4,
      "outputs": [
        {
          "output_type": "execute_result",
          "data": {
            "text/plain": [
              "   is_mobile  n_products_viewed  visit_duration  is_returning_visitor  \\\n",
              "0          1                  0        0.657510                     0   \n",
              "1          1                  1        0.568571                     0   \n",
              "2          1                  0        0.042246                     1   \n",
              "3          1                  1        1.659793                     1   \n",
              "4          0                  1        2.014745                     1   \n",
              "\n",
              "   time_of_day  user_action  \n",
              "0            3            0  \n",
              "1            2            1  \n",
              "2            1            0  \n",
              "3            1            2  \n",
              "4            1            2  "
            ],
            "text/html": [
              "\n",
              "  <div id=\"df-a8f9f785-7329-4d7f-b646-e3ba9dcc0991\">\n",
              "    <div class=\"colab-df-container\">\n",
              "      <div>\n",
              "<style scoped>\n",
              "    .dataframe tbody tr th:only-of-type {\n",
              "        vertical-align: middle;\n",
              "    }\n",
              "\n",
              "    .dataframe tbody tr th {\n",
              "        vertical-align: top;\n",
              "    }\n",
              "\n",
              "    .dataframe thead th {\n",
              "        text-align: right;\n",
              "    }\n",
              "</style>\n",
              "<table border=\"1\" class=\"dataframe\">\n",
              "  <thead>\n",
              "    <tr style=\"text-align: right;\">\n",
              "      <th></th>\n",
              "      <th>is_mobile</th>\n",
              "      <th>n_products_viewed</th>\n",
              "      <th>visit_duration</th>\n",
              "      <th>is_returning_visitor</th>\n",
              "      <th>time_of_day</th>\n",
              "      <th>user_action</th>\n",
              "    </tr>\n",
              "  </thead>\n",
              "  <tbody>\n",
              "    <tr>\n",
              "      <th>0</th>\n",
              "      <td>1</td>\n",
              "      <td>0</td>\n",
              "      <td>0.657510</td>\n",
              "      <td>0</td>\n",
              "      <td>3</td>\n",
              "      <td>0</td>\n",
              "    </tr>\n",
              "    <tr>\n",
              "      <th>1</th>\n",
              "      <td>1</td>\n",
              "      <td>1</td>\n",
              "      <td>0.568571</td>\n",
              "      <td>0</td>\n",
              "      <td>2</td>\n",
              "      <td>1</td>\n",
              "    </tr>\n",
              "    <tr>\n",
              "      <th>2</th>\n",
              "      <td>1</td>\n",
              "      <td>0</td>\n",
              "      <td>0.042246</td>\n",
              "      <td>1</td>\n",
              "      <td>1</td>\n",
              "      <td>0</td>\n",
              "    </tr>\n",
              "    <tr>\n",
              "      <th>3</th>\n",
              "      <td>1</td>\n",
              "      <td>1</td>\n",
              "      <td>1.659793</td>\n",
              "      <td>1</td>\n",
              "      <td>1</td>\n",
              "      <td>2</td>\n",
              "    </tr>\n",
              "    <tr>\n",
              "      <th>4</th>\n",
              "      <td>0</td>\n",
              "      <td>1</td>\n",
              "      <td>2.014745</td>\n",
              "      <td>1</td>\n",
              "      <td>1</td>\n",
              "      <td>2</td>\n",
              "    </tr>\n",
              "  </tbody>\n",
              "</table>\n",
              "</div>\n",
              "      <button class=\"colab-df-convert\" onclick=\"convertToInteractive('df-a8f9f785-7329-4d7f-b646-e3ba9dcc0991')\"\n",
              "              title=\"Convert this dataframe to an interactive table.\"\n",
              "              style=\"display:none;\">\n",
              "        \n",
              "  <svg xmlns=\"http://www.w3.org/2000/svg\" height=\"24px\"viewBox=\"0 0 24 24\"\n",
              "       width=\"24px\">\n",
              "    <path d=\"M0 0h24v24H0V0z\" fill=\"none\"/>\n",
              "    <path d=\"M18.56 5.44l.94 2.06.94-2.06 2.06-.94-2.06-.94-.94-2.06-.94 2.06-2.06.94zm-11 1L8.5 8.5l.94-2.06 2.06-.94-2.06-.94L8.5 2.5l-.94 2.06-2.06.94zm10 10l.94 2.06.94-2.06 2.06-.94-2.06-.94-.94-2.06-.94 2.06-2.06.94z\"/><path d=\"M17.41 7.96l-1.37-1.37c-.4-.4-.92-.59-1.43-.59-.52 0-1.04.2-1.43.59L10.3 9.45l-7.72 7.72c-.78.78-.78 2.05 0 2.83L4 21.41c.39.39.9.59 1.41.59.51 0 1.02-.2 1.41-.59l7.78-7.78 2.81-2.81c.8-.78.8-2.07 0-2.86zM5.41 20L4 18.59l7.72-7.72 1.47 1.35L5.41 20z\"/>\n",
              "  </svg>\n",
              "      </button>\n",
              "      \n",
              "  <style>\n",
              "    .colab-df-container {\n",
              "      display:flex;\n",
              "      flex-wrap:wrap;\n",
              "      gap: 12px;\n",
              "    }\n",
              "\n",
              "    .colab-df-convert {\n",
              "      background-color: #E8F0FE;\n",
              "      border: none;\n",
              "      border-radius: 50%;\n",
              "      cursor: pointer;\n",
              "      display: none;\n",
              "      fill: #1967D2;\n",
              "      height: 32px;\n",
              "      padding: 0 0 0 0;\n",
              "      width: 32px;\n",
              "    }\n",
              "\n",
              "    .colab-df-convert:hover {\n",
              "      background-color: #E2EBFA;\n",
              "      box-shadow: 0px 1px 2px rgba(60, 64, 67, 0.3), 0px 1px 3px 1px rgba(60, 64, 67, 0.15);\n",
              "      fill: #174EA6;\n",
              "    }\n",
              "\n",
              "    [theme=dark] .colab-df-convert {\n",
              "      background-color: #3B4455;\n",
              "      fill: #D2E3FC;\n",
              "    }\n",
              "\n",
              "    [theme=dark] .colab-df-convert:hover {\n",
              "      background-color: #434B5C;\n",
              "      box-shadow: 0px 1px 3px 1px rgba(0, 0, 0, 0.15);\n",
              "      filter: drop-shadow(0px 1px 2px rgba(0, 0, 0, 0.3));\n",
              "      fill: #FFFFFF;\n",
              "    }\n",
              "  </style>\n",
              "\n",
              "      <script>\n",
              "        const buttonEl =\n",
              "          document.querySelector('#df-a8f9f785-7329-4d7f-b646-e3ba9dcc0991 button.colab-df-convert');\n",
              "        buttonEl.style.display =\n",
              "          google.colab.kernel.accessAllowed ? 'block' : 'none';\n",
              "\n",
              "        async function convertToInteractive(key) {\n",
              "          const element = document.querySelector('#df-a8f9f785-7329-4d7f-b646-e3ba9dcc0991');\n",
              "          const dataTable =\n",
              "            await google.colab.kernel.invokeFunction('convertToInteractive',\n",
              "                                                     [key], {});\n",
              "          if (!dataTable) return;\n",
              "\n",
              "          const docLinkHtml = 'Like what you see? Visit the ' +\n",
              "            '<a target=\"_blank\" href=https://colab.research.google.com/notebooks/data_table.ipynb>data table notebook</a>'\n",
              "            + ' to learn more about interactive tables.';\n",
              "          element.innerHTML = '';\n",
              "          dataTable['output_type'] = 'display_data';\n",
              "          await google.colab.output.renderOutput(dataTable, element);\n",
              "          const docLink = document.createElement('div');\n",
              "          docLink.innerHTML = docLinkHtml;\n",
              "          element.appendChild(docLink);\n",
              "        }\n",
              "      </script>\n",
              "    </div>\n",
              "  </div>\n",
              "  "
            ]
          },
          "metadata": {},
          "execution_count": 4
        }
      ]
    },
    {
      "cell_type": "code",
      "source": [
        "df['time_of_day'].hist();"
      ],
      "metadata": {
        "colab": {
          "base_uri": "https://localhost:8080/",
          "height": 265
        },
        "id": "wG_ixrJ_knIP",
        "outputId": "dce77744-4298-4c8d-e9fb-32185893573a"
      },
      "execution_count": 5,
      "outputs": [
        {
          "output_type": "display_data",
          "data": {
            "text/plain": [
              "<Figure size 432x288 with 1 Axes>"
            ],
            "image/png": "[encoded data removed]"
          },
          "metadata": {
            "needs_background": "light"
          }
        }
      ]
    },
    {
      "cell_type": "code",
      "source": [
        "data = df.to_numpy()\n",
        "np.random.shuffle(data)"
      ],
      "metadata": {
        "id": "ltEaZcX8k2_r"
      },
      "execution_count": 6,
      "outputs": []
    },
    {
      "cell_type": "code",
      "source": [
        "X = data[:, :-1]\n",
        "Y = data[:, -1].astype(np.int32)"
      ],
      "metadata": {
        "id": "ux4KelEwl3PZ"
      },
      "execution_count": 7,
      "outputs": []
    },
    {
      "cell_type": "code",
      "source": [
        "N, D = X.shape\n",
        "X2 = np.zeros((N, D+3))\n",
        "X2[:, :(D-1)] = X[:, :(D-1)]"
      ],
      "metadata": {
        "id": "1docY8c6mNxt"
      },
      "execution_count": 8,
      "outputs": []
    },
    {
      "cell_type": "code",
      "source": [
        "for n in range(N):\n",
        "  t = int(X[n, (D - 1)])\n",
        "  X2[t + (D - 1)] = 1"
      ],
      "metadata": {
        "id": "mGv4jXPem6Rj"
      },
      "execution_count": 9,
      "outputs": []
    },
    {
      "cell_type": "code",
      "source": [
        "X = X2"
      ],
      "metadata": {
        "id": "Up0Y-rA5nhs_"
      },
      "execution_count": 10,
      "outputs": []
    },
    {
      "cell_type": "code",
      "source": [
        "Xtrain = X[:-100]\n",
        "Ytrain = Y[:-100]\n",
        "Xtest = X[-100:]\n",
        "Ytest = Y[-100:]"
      ],
      "metadata": {
        "id": "lB6G9Nb1nj-u"
      },
      "execution_count": 11,
      "outputs": []
    },
    {
      "cell_type": "code",
      "source": [
        "# normalize columns 1 and 2\n",
        "for i in (1, 2):\n",
        "  m = Xtrain[:, i].mean()\n",
        "  s = Xtrain[:, i].std()\n",
        "  Xtrain[:, i] = (Xtrain[:, i] - m) / s\n",
        "  Xtest[:, i] = (Xtest[:, i] - m) / s"
      ],
      "metadata": {
        "id": "xNSO1zlIn3Fl"
      },
      "execution_count": 12,
      "outputs": []
    },
    {
      "cell_type": "code",
      "source": [
        "Xtrain.shape, Ytrain.shape, Xtest.shape, Ytest.shape"
      ],
      "metadata": {
        "colab": {
          "base_uri": "https://localhost:8080/"
        },
        "id": "1jdZCUOfojmC",
        "outputId": "677ce013-97d3-45a9-8bcf-88a6bf2fe38b"
      },
      "execution_count": 13,
      "outputs": [
        {
          "output_type": "execute_result",
          "data": {
            "text/plain": [
              "((400, 8), (400,), (100, 8), (100,))"
            ]
          },
          "metadata": {},
          "execution_count": 13
        }
      ]
    },
    {
      "cell_type": "code",
      "source": [
        "binary_train_data = Ytrain <= 1\n",
        "binary_test_data = Ytest <= 1\n",
        "X2train, Y2train, X2test, Y2test = Xtrain[binary_train_data], Ytrain[binary_train_data], Xtest[binary_test_data], Ytest[binary_test_data]"
      ],
      "metadata": {
        "id": "QAy_8VvQo1AB"
      },
      "execution_count": 14,
      "outputs": []
    },
    {
      "cell_type": "code",
      "source": [
        "X2train.shape, Y2train.shape, X2test.shape, Y2test.shape"
      ],
      "metadata": {
        "colab": {
          "base_uri": "https://localhost:8080/"
        },
        "id": "rWYbJaurplNs",
        "outputId": "0aae9abb-b47b-42a6-d257-29841c0dd359"
      },
      "execution_count": 15,
      "outputs": [
        {
          "output_type": "execute_result",
          "data": {
            "text/plain": [
              "((315, 8), (315,), (83, 8), (83,))"
            ]
          },
          "metadata": {},
          "execution_count": 15
        }
      ]
    },
    {
      "cell_type": "code",
      "source": [
        "# randomly initialize weights\n",
        "D = X.shape[1]\n",
        "W = np.random.randn(D)\n",
        "b = 0"
      ],
      "metadata": {
        "id": "ho0Ps7Osp4bK"
      },
      "execution_count": 42,
      "outputs": []
    },
    {
      "cell_type": "code",
      "source": [
        "# make predictions\n",
        "def sigmoid(a):\n",
        "  return 1 / (1 + np.exp(-a))"
      ],
      "metadata": {
        "id": "Y0nIyN-jqydv"
      },
      "execution_count": 17,
      "outputs": []
    },
    {
      "cell_type": "code",
      "source": [
        "def forward(X, W, b):\n",
        "  return sigmoid(X.dot(W) + b)"
      ],
      "metadata": {
        "id": "vJYjWHr0rGif"
      },
      "execution_count": 18,
      "outputs": []
    },
    {
      "cell_type": "code",
      "source": [
        "log_reg = forward(X2train, W, b)"
      ],
      "metadata": {
        "id": "1V4oJQK7rXYA"
      },
      "execution_count": 19,
      "outputs": []
    },
    {
      "cell_type": "code",
      "source": [
        "log_reg.shape"
      ],
      "metadata": {
        "colab": {
          "base_uri": "https://localhost:8080/"
        },
        "id": "xwT0RGg9r4Mw",
        "outputId": "2032cc6f-eb9b-4155-edec-3d9881c48e26"
      },
      "execution_count": 20,
      "outputs": [
        {
          "output_type": "execute_result",
          "data": {
            "text/plain": [
              "(315,)"
            ]
          },
          "metadata": {},
          "execution_count": 20
        }
      ]
    },
    {
      "cell_type": "code",
      "source": [
        "predictions = np.round(log_reg)\n",
        "predictions"
      ],
      "metadata": {
        "colab": {
          "base_uri": "https://localhost:8080/"
        },
        "id": "7qlT68For_Wi",
        "outputId": "6d311d0b-bd12-4277-c31d-85864079e558"
      },
      "execution_count": 21,
      "outputs": [
        {
          "output_type": "execute_result",
          "data": {
            "text/plain": [
              "array([0., 1., 1., 0., 1., 1., 1., 1., 0., 0., 1., 1., 0., 0., 1., 1., 0.,\n",
              "       1., 1., 0., 1., 0., 1., 0., 0., 0., 0., 1., 0., 0., 0., 0., 1., 1.,\n",
              "       0., 0., 0., 0., 0., 0., 0., 1., 0., 0., 0., 0., 0., 0., 0., 1., 0.,\n",
              "       0., 1., 1., 1., 1., 0., 0., 0., 0., 0., 0., 1., 0., 0., 0., 1., 1.,\n",
              "       0., 1., 0., 1., 1., 1., 0., 0., 0., 1., 1., 0., 0., 1., 0., 0., 1.,\n",
              "       0., 0., 0., 1., 0., 1., 0., 0., 1., 0., 0., 0., 0., 1., 0., 1., 0.,\n",
              "       1., 0., 1., 0., 1., 1., 0., 1., 1., 0., 1., 1., 0., 0., 0., 1., 0.,\n",
              "       0., 0., 0., 1., 0., 1., 0., 1., 0., 0., 0., 1., 0., 1., 0., 0., 1.,\n",
              "       1., 0., 0., 0., 1., 0., 0., 1., 0., 1., 0., 0., 1., 1., 1., 1., 0.,\n",
              "       1., 1., 0., 0., 0., 0., 1., 0., 0., 0., 1., 0., 1., 0., 1., 0., 1.,\n",
              "       0., 1., 1., 1., 1., 1., 0., 1., 0., 0., 0., 0., 1., 0., 0., 1., 0.,\n",
              "       0., 0., 1., 0., 1., 0., 0., 1., 1., 1., 1., 0., 0., 0., 1., 1., 0.,\n",
              "       0., 0., 0., 1., 0., 0., 0., 0., 0., 1., 0., 0., 1., 0., 1., 0., 1.,\n",
              "       0., 0., 1., 0., 0., 0., 0., 0., 0., 0., 0., 0., 0., 0., 0., 0., 0.,\n",
              "       0., 0., 0., 0., 0., 1., 1., 1., 0., 0., 1., 1., 0., 0., 1., 1., 1.,\n",
              "       0., 0., 0., 1., 1., 0., 0., 0., 1., 0., 0., 0., 1., 0., 1., 0., 0.,\n",
              "       1., 0., 0., 0., 0., 1., 0., 0., 0., 0., 0., 1., 1., 0., 1., 0., 0.,\n",
              "       0., 0., 0., 0., 0., 0., 0., 0., 0., 1., 1., 0., 0., 0., 0., 0., 1.,\n",
              "       1., 0., 0., 0., 0., 0., 1., 0., 0.])"
            ]
          },
          "metadata": {},
          "execution_count": 21
        }
      ]
    },
    {
      "cell_type": "code",
      "source": [
        "print(f\"Score: {np.mean(Y2train == predictions)}\")"
      ],
      "metadata": {
        "colab": {
          "base_uri": "https://localhost:8080/"
        },
        "id": "kxGZYREXstGf",
        "outputId": "4c3dd69f-a5c8-488e-d7cd-17b6ba0ebb65"
      },
      "execution_count": 22,
      "outputs": [
        {
          "output_type": "stream",
          "name": "stdout",
          "text": [
            "Score: 0.473015873015873\n"
          ]
        }
      ]
    },
    {
      "cell_type": "code",
      "source": [
        "def cross_entropy(Y, pY):\n",
        "  return -np.mean(Y * np.log(pY) + (1 - Y) * np.log(1 - pY))"
      ],
      "metadata": {
        "id": "J42adn-6tGRt"
      },
      "execution_count": 24,
      "outputs": []
    },
    {
      "cell_type": "code",
      "source": [
        "train_costs = []\n",
        "test_costs = []\n",
        "learning_rate = 0.001\n",
        "epochs = 10000\n",
        "\n",
        "for i in range(epochs):\n",
        "  pYtrain = forward(X2train, W, b)\n",
        "  pYtest = forward(X2test, W, b)\n",
        "\n",
        "  cost_train = cross_entropy(Y2train, pYtrain)\n",
        "  cost_test = cross_entropy(Y2test, pYtest)\n",
        "\n",
        "  train_costs.append(cost_train)\n",
        "  test_costs.append(cost_test)\n",
        "\n",
        "  acc_train = np.mean(Y2train == np.round(pYtrain))\n",
        "  acc_test = np.mean(Y2test == np.round(pYtest))\n",
        "\n",
        "  W -= learning_rate * X2train.T.dot(pYtrain - Y2train)  \n",
        "  b -= learning_rate * (pYtrain - Y2train).sum()\n",
        "\n",
        "  if i % 1000 == 0:\n",
        "    print(f\"{i} => {cost_train} train loss and {cost_test} test loss\") \n",
        "    print(f\"{i} => {acc_train} train rate and {acc_test} test rate\")             "
      ],
      "metadata": {
        "id": "cXSQU1qY7arz",
        "colab": {
          "base_uri": "https://localhost:8080/"
        },
        "outputId": "5ed6bb2a-54ee-49fb-fa56-317382ca9084"
      },
      "execution_count": 43,
      "outputs": [
        {
          "output_type": "stream",
          "name": "stdout",
          "text": [
            "0 => 0.5548989434300349 train loss and 0.5322368843609547 test loss\n",
            "0 => 0.7365079365079366 train rate and 0.7469879518072289 test rate\n",
            "1000 => 0.19998774514314688 train loss and 0.16957990300189482 test loss\n",
            "1000 => 0.9650793650793651 train rate and 0.9518072289156626 test rate\n",
            "2000 => 0.19923197946792176 train loss and 0.16578337390309306 test loss\n",
            "2000 => 0.9650793650793651 train rate and 0.9518072289156626 test rate\n",
            "3000 => 0.19919071574061803 train loss and 0.1649390731543944 test loss\n",
            "3000 => 0.9650793650793651 train rate and 0.9518072289156626 test rate\n",
            "4000 => 0.19918806867634106 train loss and 0.16472925670407015 test loss\n",
            "4000 => 0.9650793650793651 train rate and 0.9518072289156626 test rate\n",
            "5000 => 0.1991878924164599 train loss and 0.1646754232638784 test loss\n",
            "5000 => 0.9650793650793651 train rate and 0.9518072289156626 test rate\n",
            "6000 => 0.19918788056837333 train loss and 0.16466148776845038 test loss\n",
            "6000 => 0.9650793650793651 train rate and 0.9518072289156626 test rate\n",
            "7000 => 0.19918787977000665 train loss and 0.16465787183232478 test loss\n",
            "7000 => 0.9650793650793651 train rate and 0.9518072289156626 test rate\n",
            "8000 => 0.1991878797161755 train loss and 0.16465693299891088 test loss\n",
            "8000 => 0.9650793650793651 train rate and 0.9518072289156626 test rate\n",
            "9000 => 0.19918787971254526 train loss and 0.1646566892029367 test loss\n",
            "9000 => 0.9650793650793651 train rate and 0.9518072289156626 test rate\n"
          ]
        }
      ]
    },
    {
      "cell_type": "code",
      "source": [
        "acc_train = np.mean(Y2train == np.round(pYtrain))\n",
        "acc_test = np.mean(Y2test == np.round(pYtest))\n",
        "print(f\"Final train classification rate {acc_train} and test classification rate {acc_test}\")"
      ],
      "metadata": {
        "colab": {
          "base_uri": "https://localhost:8080/"
        },
        "id": "bGuwQT3lNq12",
        "outputId": "7b989f0f-4ffa-4a5c-a0e0-fcc7fefb8ee8"
      },
      "execution_count": 44,
      "outputs": [
        {
          "output_type": "stream",
          "name": "stdout",
          "text": [
            "Final train classification rate 0.9650793650793651 and test classification rate 0.9518072289156626\n"
          ]
        }
      ]
    },
    {
      "cell_type": "code",
      "source": [
        "plt.plot(train_costs, label=\"train cost\")\n",
        "plt.plot(test_costs, label=\"test cost\")\n",
        "plt.legend();"
      ],
      "metadata": {
        "colab": {
          "base_uri": "https://localhost:8080/",
          "height": 265
        },
        "id": "7XfqrlJrPXeD",
        "outputId": "a896ba31-7e2e-4b33-c345-1f15a5e713d5"
      },
      "execution_count": 45,
      "outputs": [
        {
          "output_type": "display_data",
          "data": {
            "text/plain": [
              "<Figure size 432x288 with 1 Axes>"
            ],
            "image/png": "[encoded data removed]"
          },
          "metadata": {
            "needs_background": "light"
          }
        }
      ]
    },
    {
      "cell_type": "code",
      "source": [],
      "metadata": {
        "id": "Ao7WJXG2QcrO"
      },
      "execution_count": null,
      "outputs": []
    }
  ]
}