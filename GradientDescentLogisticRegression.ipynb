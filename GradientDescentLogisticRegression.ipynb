{
  "nbformat": 4,
  "nbformat_minor": 0,
  "metadata": {
    "colab": {
      "provenance": []
    },
    "kernelspec": {
      "name": "python3",
      "display_name": "Python 3"
    },
    "language_info": {
      "name": "python"
    }
  },
  "cells": [
    {
      "cell_type": "code",
      "execution_count": 17,
      "metadata": {
        "id": "J-Wg5zBZ9bLw"
      },
      "outputs": [],
      "source": [
        "import numpy as np"
      ]
    },
    {
      "cell_type": "code",
      "source": [
        "N = 100\n",
        "D = 2\n",
        "H = N / 2"
      ],
      "metadata": {
        "id": "LpPGcJKx9d48"
      },
      "execution_count": 18,
      "outputs": []
    },
    {
      "cell_type": "code",
      "source": [
        "X = np.random.randn(N, D)"
      ],
      "metadata": {
        "id": "5jHE7vcr9gqK"
      },
      "execution_count": 19,
      "outputs": []
    },
    {
      "cell_type": "code",
      "source": [
        "X[:50, :] = X[:50, :] - 2 * np.ones((50, D))\n",
        "X[50:, :] = X[50:, :] + 2 * np.ones((50, D))"
      ],
      "metadata": {
        "id": "wSwwlbUa9jt7"
      },
      "execution_count": 20,
      "outputs": []
    },
    {
      "cell_type": "code",
      "source": [
        "T = np.array([0]*50 + [1]*50)"
      ],
      "metadata": {
        "id": "jkZ3B5QE-KGf"
      },
      "execution_count": 21,
      "outputs": []
    },
    {
      "cell_type": "code",
      "source": [
        "ones = np.array([[1]*N]).T\n",
        "Xb = np.concatenate((ones, X), axis=1)"
      ],
      "metadata": {
        "id": "jEVWO_6n-gc2"
      },
      "execution_count": 22,
      "outputs": []
    },
    {
      "cell_type": "code",
      "source": [
        "W = np.random.randn(D + 1)\n",
        "z = Xb.dot(W)"
      ],
      "metadata": {
        "id": "MZmUcrHy1kkt"
      },
      "execution_count": 23,
      "outputs": []
    },
    {
      "cell_type": "code",
      "source": [
        "def sigmoid(z):\n",
        "  return 1/(1 + np.exp(-z))"
      ],
      "metadata": {
        "id": "sKcWQzwD1oo2"
      },
      "execution_count": 24,
      "outputs": []
    },
    {
      "cell_type": "code",
      "source": [
        "Y = sigmoid(z)"
      ],
      "metadata": {
        "id": "phgK9K591raB"
      },
      "execution_count": 25,
      "outputs": []
    },
    {
      "cell_type": "code",
      "source": [
        "def cross_entropy(Y,T):\n",
        "  E = 0\n",
        "  for i in range(N):\n",
        "    if T[i] == 1:\n",
        "      E -= np.log(Y[i] + 1e-1)\n",
        "    else:\n",
        "      E -= np.log(1 + 1e-1 - Y[i])\n",
        "  return E"
      ],
      "metadata": {
        "id": "z8l02jVy1xLZ"
      },
      "execution_count": 29,
      "outputs": []
    },
    {
      "cell_type": "code",
      "source": [
        "print(cross_entropy(T, Y))"
      ],
      "metadata": {
        "colab": {
          "base_uri": "https://localhost:8080/"
        },
        "id": "H-qFgUNp10O4",
        "outputId": "98272a32-3e59-424f-ce3c-a9b1cb153b79"
      },
      "execution_count": 30,
      "outputs": [
        {
          "output_type": "stream",
          "name": "stdout",
          "text": [
            "110.36374565948609\n"
          ]
        }
      ]
    },
    {
      "cell_type": "code",
      "source": [
        "learning_rate = 0.01\n",
        "epochs = 100\n",
        "for i in range(epochs):\n",
        "  if i % 10 == 0:\n",
        "    print(cross_entropy(T, Y))\n",
        "  \n",
        "  W += learning_rate * np.dot((T - Y).T, Xb)\n",
        "  y = sigmoid(Xb.dot(W))\n",
        "\n",
        "print(f\"Final w: {W}\")"
      ],
      "metadata": {
        "colab": {
          "base_uri": "https://localhost:8080/"
        },
        "id": "DVeWtRmQ12uB",
        "outputId": "1d7dae32-99e9-4960-bb0e-fc806fa3ef76"
      },
      "execution_count": 32,
      "outputs": [
        {
          "output_type": "stream",
          "name": "stdout",
          "text": [
            "110.36374565948609\n",
            "110.36374565948609\n",
            "110.36374565948609\n",
            "110.36374565948609\n",
            "110.36374565948609\n",
            "110.36374565948609\n",
            "110.36374565948609\n",
            "110.36374565948609\n",
            "110.36374565948609\n",
            "110.36374565948609\n",
            "Final w: [  11.12518919 4141.04315609 3005.76391895]\n"
          ]
        },
        {
          "output_type": "stream",
          "name": "stderr",
          "text": [
            "<ipython-input-24-1de96a25e2a7>:2: RuntimeWarning: overflow encountered in exp\n",
            "  return 1/(1 + np.exp(-z))\n"
          ]
        }
      ]
    },
    {
      "cell_type": "code",
      "source": [],
      "metadata": {
        "id": "UvEHZry05JSW"
      },
      "execution_count": 31,
      "outputs": []
    }
  ]
}